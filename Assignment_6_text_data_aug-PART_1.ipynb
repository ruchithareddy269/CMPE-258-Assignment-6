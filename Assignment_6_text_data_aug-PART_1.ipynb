{
  "nbformat": 4,
  "nbformat_minor": 0,
  "metadata": {
    "colab": {
      "provenance": []
    },
    "kernelspec": {
      "name": "python3",
      "display_name": "Python 3"
    },
    "language_info": {
      "name": "python"
    }
  },
  "cells": [
    {
      "cell_type": "code",
      "metadata": {
        "id": "ABLd8on9lFwK",
        "colab": {
          "base_uri": "https://localhost:8080/"
        },
        "outputId": "05275a7e-f915-4b2e-dcf1-317373ee054b"
      },
      "source": [
        "\n",
        "!pip install -U augly[text]\n",
        "!sudo apt-get install python3-magic"
      ],
      "execution_count": 1,
      "outputs": [
        {
          "output_type": "stream",
          "name": "stdout",
          "text": [
            "Collecting augly[text]\n",
            "  Downloading augly-1.0.0-py3-none-any.whl (24.3 MB)\n",
            "\u001b[2K     \u001b[90m━━━━━━━━━━━━━━━━━━━━━━━━━━━━━━━━━━━━━━━━\u001b[0m \u001b[32m24.3/24.3 MB\u001b[0m \u001b[31m13.3 MB/s\u001b[0m eta \u001b[36m0:00:00\u001b[0m\n",
            "\u001b[?25hCollecting iopath>=0.1.8 (from augly[text])\n",
            "  Downloading iopath-0.1.10.tar.gz (42 kB)\n",
            "\u001b[2K     \u001b[90m━━━━━━━━━━━━━━━━━━━━━━━━━━━━━━━━━━━━━━━━\u001b[0m \u001b[32m42.2/42.2 kB\u001b[0m \u001b[31m3.1 MB/s\u001b[0m eta \u001b[36m0:00:00\u001b[0m\n",
            "\u001b[?25h  Preparing metadata (setup.py) ... \u001b[?25l\u001b[?25hdone\n",
            "Collecting python-magic>=0.4.22 (from augly[text])\n",
            "  Downloading python_magic-0.4.27-py2.py3-none-any.whl (13 kB)\n",
            "Requirement already satisfied: regex>=2021.4.4 in /usr/local/lib/python3.10/dist-packages (from augly[text]) (2023.12.25)\n",
            "Collecting nlpaug==1.1.3 (from augly[text])\n",
            "  Downloading nlpaug-1.1.3-py3-none-any.whl (394 kB)\n",
            "\u001b[2K     \u001b[90m━━━━━━━━━━━━━━━━━━━━━━━━━━━━━━━━━━━━━━━━\u001b[0m \u001b[32m394.2/394.2 kB\u001b[0m \u001b[31m17.9 MB/s\u001b[0m eta \u001b[36m0:00:00\u001b[0m\n",
            "\u001b[?25hRequirement already satisfied: tqdm in /usr/local/lib/python3.10/dist-packages (from iopath>=0.1.8->augly[text]) (4.66.2)\n",
            "Requirement already satisfied: typing_extensions in /usr/local/lib/python3.10/dist-packages (from iopath>=0.1.8->augly[text]) (4.11.0)\n",
            "Collecting portalocker (from iopath>=0.1.8->augly[text])\n",
            "  Downloading portalocker-2.8.2-py3-none-any.whl (17 kB)\n",
            "Building wheels for collected packages: iopath\n",
            "  Building wheel for iopath (setup.py) ... \u001b[?25l\u001b[?25hdone\n",
            "  Created wheel for iopath: filename=iopath-0.1.10-py3-none-any.whl size=31532 sha256=790d3cf69063848d532d75df5692b88454447a86be4e9597d58876f10f3747b3\n",
            "  Stored in directory: /root/.cache/pip/wheels/9a/a3/b6/ac0fcd1b4ed5cfeb3db92e6a0e476cfd48ed0df92b91080c1d\n",
            "Successfully built iopath\n",
            "Installing collected packages: nlpaug, python-magic, portalocker, iopath, augly\n",
            "Successfully installed augly-1.0.0 iopath-0.1.10 nlpaug-1.1.3 portalocker-2.8.2 python-magic-0.4.27\n",
            "Reading package lists... Done\n",
            "Building dependency tree... Done\n",
            "Reading state information... Done\n",
            "The following NEW packages will be installed:\n",
            "  python3-magic\n",
            "0 upgraded, 1 newly installed, 0 to remove and 45 not upgraded.\n",
            "Need to get 12.6 kB of archives.\n",
            "After this operation, 52.2 kB of additional disk space will be used.\n",
            "Get:1 http://archive.ubuntu.com/ubuntu jammy/main amd64 python3-magic all 2:0.4.24-2 [12.6 kB]\n",
            "Fetched 12.6 kB in 0s (119 kB/s)\n",
            "debconf: unable to initialize frontend: Dialog\n",
            "debconf: (No usable dialog-like program is installed, so the dialog based frontend cannot be used. at /usr/share/perl5/Debconf/FrontEnd/Dialog.pm line 78, <> line 1.)\n",
            "debconf: falling back to frontend: Readline\n",
            "debconf: unable to initialize frontend: Readline\n",
            "debconf: (This frontend requires a controlling tty.)\n",
            "debconf: falling back to frontend: Teletype\n",
            "dpkg-preconfigure: unable to re-open stdin: \n",
            "Selecting previously unselected package python3-magic.\n",
            "(Reading database ... 121752 files and directories currently installed.)\n",
            "Preparing to unpack .../python3-magic_2%3a0.4.24-2_all.deb ...\n",
            "Unpacking python3-magic (2:0.4.24-2) ...\n",
            "Setting up python3-magic (2:0.4.24-2) ...\n"
          ]
        }
      ]
    },
    {
      "cell_type": "markdown",
      "source": [
        "Imports and inputs"
      ],
      "metadata": {
        "id": "vReq_aAzdfqZ"
      }
    },
    {
      "cell_type": "code",
      "metadata": {
        "id": "LJeIPC67lJet",
        "colab": {
          "base_uri": "https://localhost:8080/",
          "height": 35
        },
        "outputId": "ca78065f-64f9-45e2-e5ec-f92ffd43d75f"
      },
      "source": [
        "import augly.text as textaugs\n",
        "\n",
        "# Define input text\n",
        "input_text = \"I am Ruchitha, I'm from Hyderabad,India\"\n",
        "input_text"
      ],
      "execution_count": 2,
      "outputs": [
        {
          "output_type": "execute_result",
          "data": {
            "text/plain": [
              "\"I am Ruchitha, I'm from Hyderabad,India\""
            ],
            "application/vnd.google.colaboratory.intrinsic+json": {
              "type": "string"
            }
          },
          "metadata": {},
          "execution_count": 2
        }
      ]
    },
    {
      "cell_type": "markdown",
      "source": [
        "Apply various augmentations"
      ],
      "metadata": {
        "id": "wrr3ZxbydkKG"
      }
    },
    {
      "cell_type": "code",
      "metadata": {
        "id": "LdGl0JxjlRXR",
        "colab": {
          "base_uri": "https://localhost:8080/"
        },
        "outputId": "ed8f4a5a-58fd-40a0-a30d-674b52dd3976"
      },
      "source": [
        "print(textaugs.simulate_typos(input_text))"
      ],
      "execution_count": 3,
      "outputs": [
        {
          "output_type": "stream",
          "name": "stdout",
          "text": [
            "I m Ruchitha, I' m from *yderabad, Ind^ia\n"
          ]
        }
      ]
    },
    {
      "cell_type": "markdown",
      "source": [
        "Passing in a metadata list, to which metadata about the augmentation will be appended including kwargs and intensity (defined based on\n",
        "the kwargs for each augmentation).\n"
      ],
      "metadata": {
        "id": "5Ysf-ywVdngs"
      }
    },
    {
      "cell_type": "code",
      "metadata": {
        "id": "-PklmlHolR4j",
        "colab": {
          "base_uri": "https://localhost:8080/"
        },
        "outputId": "9ad3cdba-784d-4db1-9dfd-d366d47f7ca6"
      },
      "source": [
        "meta = []\n",
        "print(\n",
        "    textaugs.replace_fun_fonts(\n",
        "        input_text, vary_fonts=True, granularity=\"word\", metadata=meta\n",
        "    )\n",
        ")\n",
        "meta"
      ],
      "execution_count": 4,
      "outputs": [
        {
          "output_type": "stream",
          "name": "stdout",
          "text": [
            "I̷ am Ruchitha, I'm from Hyderabad, India\n"
          ]
        },
        {
          "output_type": "execute_result",
          "data": {
            "text/plain": [
              "[{'name': 'replace_fun_fonts',\n",
              "  'input_type': 'string',\n",
              "  'src_length': 1,\n",
              "  'dst_length': 41,\n",
              "  'aug_p': 0.3,\n",
              "  'aug_min': 1,\n",
              "  'aug_max': 10000,\n",
              "  'granularity': 'word',\n",
              "  'vary_fonts': True,\n",
              "  'fonts_path': '/usr/local/lib/python3.10/dist-packages/augly/assets/text/fun_fonts.json',\n",
              "  'n': 1,\n",
              "  'priority_words': None,\n",
              "  'intensity': 30.0}]"
            ]
          },
          "metadata": {},
          "execution_count": 4
        }
      ]
    },
    {
      "cell_type": "markdown",
      "source": [
        "For all the augmentations, we have class-based definitions as well as functional"
      ],
      "metadata": {
        "id": "S4Uo1kdudtIt"
      }
    },
    {
      "cell_type": "code",
      "metadata": {
        "id": "_ab92YUjyM6y",
        "colab": {
          "base_uri": "https://localhost:8080/"
        },
        "outputId": "3d1a98b8-1769-4387-d96e-97f355c7397c"
      },
      "source": [
        "meta = []\n",
        "aug = textaugs.ReplaceSimilarUnicodeChars(aug_word_p=0.6)\n",
        "print(aug(input_text, metadata=meta))\n",
        "meta"
      ],
      "execution_count": 5,
      "outputs": [
        {
          "output_type": "stream",
          "name": "stdout",
          "text": [
            "I aᙢ RuchᎥtЋa, I'm from HႸderabãd, Indⓘa\n"
          ]
        },
        {
          "output_type": "execute_result",
          "data": {
            "text/plain": [
              "[{'name': 'replace_similar_unicode_chars',\n",
              "  'input_type': 'string',\n",
              "  'src_length': 1,\n",
              "  'dst_length': 40,\n",
              "  'aug_char_p': 0.3,\n",
              "  'aug_word_p': 0.6,\n",
              "  'min_char': 2,\n",
              "  'aug_char_min': 1,\n",
              "  'aug_char_max': 1000,\n",
              "  'aug_word_min': 1,\n",
              "  'aug_word_max': 1000,\n",
              "  'n': 1,\n",
              "  'mapping_path': '/usr/local/lib/python3.10/dist-packages/augly/assets/text/letter_unicode_mapping.json',\n",
              "  'priority_words': None,\n",
              "  'intensity': 18.0}]"
            ]
          },
          "metadata": {},
          "execution_count": 5
        }
      ]
    },
    {
      "cell_type": "markdown",
      "source": [
        "Evaluating the fairness of your model by swapping gender in text\n",
        "\n",
        "inputs & evaluating the performance!"
      ],
      "metadata": {
        "id": "1XQ-NrlQdyCt"
      }
    },
    {
      "cell_type": "code",
      "metadata": {
        "id": "9-IMYGRyzNen",
        "colab": {
          "base_uri": "https://localhost:8080/"
        },
        "outputId": "0f71061e-925f-4d91-eaea-67a301ed5bc1"
      },
      "source": [
        "gendered_text = \"My sister is very beautiful and my brother is handsome\"\n",
        "aug = textaugs.SwapGenderedWords(aug_word_p=1.0)\n",
        "print(aug(gendered_text))"
      ],
      "execution_count": 8,
      "outputs": [
        {
          "output_type": "stream",
          "name": "stdout",
          "text": [
            "My brother is very beautiful and my sister is handsome\n"
          ]
        }
      ]
    },
    {
      "cell_type": "code",
      "metadata": {
        "id": "P_pXLW_l7euY",
        "colab": {
          "base_uri": "https://localhost:8080/"
        },
        "outputId": "ca347074-e574-4eb9-da64-b7eed3f695dd"
      },
      "source": [
        "aug = textaugs.Contractions(aug_p=1.0)\n",
        "print(aug(input_text))"
      ],
      "execution_count": 9,
      "outputs": [
        {
          "output_type": "stream",
          "name": "stdout",
          "text": [
            "[\"I'm Ruchitha, I'm from Hyderabad, India\"]\n"
          ]
        }
      ]
    }
  ]
}