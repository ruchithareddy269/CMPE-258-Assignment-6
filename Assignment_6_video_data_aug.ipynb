{
  "nbformat": 4,
  "nbformat_minor": 0,
  "metadata": {
    "colab": {
      "provenance": []
    },
    "kernelspec": {
      "name": "python3",
      "display_name": "Python 3"
    },
    "language_info": {
      "name": "python"
    }
  },
  "cells": [
    {
      "cell_type": "code",
      "source": [
        "import cv2\n",
        "import os\n",
        "import glob\n",
        "import numpy as np\n",
        "\n",
        "# Get all mp4 files in the current directory\n",
        "videos = glob.glob(\"*.mp4\")\n",
        "\n",
        "# Loop through the videos\n",
        "for video in videos:\n",
        "    # Open the video using OpenCV\n",
        "    cap = cv2.VideoCapture(video)\n",
        "    # Get the video frame width and height\n",
        "    frame_width = int(cap.get(3))\n",
        "    frame_height = int(cap.get(4))\n",
        "\n",
        "    frames = []\n",
        "    # Loop through the frames\n",
        "    while True:\n",
        "        ret, frame = cap.read()\n",
        "        if not ret:\n",
        "            break\n",
        "        frames.append(frame)\n",
        "    # check if the video is open successfully\n",
        "    if cap.isOpened():\n",
        "        for i in range(len(frames)):\n",
        "            # Define the zoom factor (1.0 is no zoom)\n",
        "            zoom_factor = 1.5\n",
        "            # Define the zoom center (in pixels)\n",
        "            zoom_center = (frame_width/2, frame_height/2)\n",
        "            # Create the transformation matrix\n",
        "            M = cv2.getRotationMatrix2D(zoom_center, 0, zoom_factor)\n",
        "            # Apply the transformation\n",
        "            frames[i] = cv2.warpAffine(frames[i], M, (frame_width, frame_height))\n",
        "        # Define the codec and create a VideoWriter object\n",
        "        fourcc = cv2.VideoWriter_fourcc(*'mp4v')\n",
        "        # Get the name of the video file and change the extension to .mp4\n",
        "        mp4_name = os.path.splitext(video)[0] + '_zoomin.mp4'\n",
        "        out = cv2.VideoWriter(mp4_name, fourcc, 20.0, (frame_width, frame_height))\n",
        "        # Write the zoomed frames to the output video\n",
        "        for frame in frames:\n",
        "            out.write(frame)\n",
        "        # Release the VideoWriter object\n",
        "        out.release()\n",
        "    else:\n",
        "        print(\"Video not opened successfully: \", video)\n",
        "    # Release the VideoCapture\n",
        "    cap.release()\n",
        ""
      ],
      "metadata": {
        "id": "EujNz26Nog-_"
      },
      "execution_count": 17,
      "outputs": []
    },
    {
      "cell_type": "code",
      "source": [
        "!ls /content"
      ],
      "metadata": {
        "colab": {
          "base_uri": "https://localhost:8080/"
        },
        "id": "jJncQRv1p4FU",
        "outputId": "b4e24fd9-1e12-4e4a-878d-c79070d2b3f9"
      },
      "execution_count": 16,
      "outputs": [
        {
          "output_type": "stream",
          "name": "stdout",
          "text": [
            "sample_data  video-1.mp4  video-1_zoomin.mp4\n"
          ]
        }
      ]
    },
    {
      "cell_type": "markdown",
      "source": [
        "Augumented video(zoomin video) is stored in video-1_zoomin"
      ],
      "metadata": {
        "id": "qFN3ry_Urxcd"
      }
    }
  ]
}